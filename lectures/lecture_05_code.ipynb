{
 "cells": [
  {
   "cell_type": "code",
   "execution_count": 2,
   "metadata": {},
   "outputs": [
    {
     "data": {
      "text/html": [
       "<div>\n",
       "<style scoped>\n",
       "    .dataframe tbody tr th:only-of-type {\n",
       "        vertical-align: middle;\n",
       "    }\n",
       "\n",
       "    .dataframe tbody tr th {\n",
       "        vertical-align: top;\n",
       "    }\n",
       "\n",
       "    .dataframe thead th {\n",
       "        text-align: right;\n",
       "    }\n",
       "</style>\n",
       "<table border=\"1\" class=\"dataframe\">\n",
       "  <thead>\n",
       "    <tr style=\"text-align: right;\">\n",
       "      <th></th>\n",
       "      <th>Category</th>\n",
       "      <th>Value</th>\n",
       "    </tr>\n",
       "  </thead>\n",
       "  <tbody>\n",
       "    <tr>\n",
       "      <th>0</th>\n",
       "      <td>A</td>\n",
       "      <td>10</td>\n",
       "    </tr>\n",
       "    <tr>\n",
       "      <th>1</th>\n",
       "      <td>B</td>\n",
       "      <td>25</td>\n",
       "    </tr>\n",
       "    <tr>\n",
       "      <th>2</th>\n",
       "      <td>A</td>\n",
       "      <td>15</td>\n",
       "    </tr>\n",
       "    <tr>\n",
       "      <th>3</th>\n",
       "      <td>C</td>\n",
       "      <td>30</td>\n",
       "    </tr>\n",
       "    <tr>\n",
       "      <th>4</th>\n",
       "      <td>B</td>\n",
       "      <td>20</td>\n",
       "    </tr>\n",
       "    <tr>\n",
       "      <th>5</th>\n",
       "      <td>A</td>\n",
       "      <td>12</td>\n",
       "    </tr>\n",
       "  </tbody>\n",
       "</table>\n",
       "</div>"
      ],
      "text/plain": [
       "  Category  Value\n",
       "0        A     10\n",
       "1        B     25\n",
       "2        A     15\n",
       "3        C     30\n",
       "4        B     20\n",
       "5        A     12"
      ]
     },
     "execution_count": 2,
     "metadata": {},
     "output_type": "execute_result"
    }
   ],
   "source": [
    "import pandas as pd\n",
    "\n",
    "df = pd.DataFrame(\n",
    "    {\n",
    "        \"Category\": [\"A\", \"B\", \"A\", \"C\", \"B\", \"A\"],\n",
    "        \"Value\": [10, 25, 15, 30, 20, 12],\n",
    "    }\n",
    ")\n",
    "df"
   ]
  },
  {
   "cell_type": "markdown",
   "metadata": {},
   "source": [
    "## [`describe()`](https://pandas.pydata.org/pandas-docs/stable/user_guide/basics.html#summarizing-data-describe)\n"
   ]
  },
  {
   "cell_type": "code",
   "execution_count": 3,
   "metadata": {},
   "outputs": [
    {
     "data": {
      "text/html": [
       "<div>\n",
       "<style scoped>\n",
       "    .dataframe tbody tr th:only-of-type {\n",
       "        vertical-align: middle;\n",
       "    }\n",
       "\n",
       "    .dataframe tbody tr th {\n",
       "        vertical-align: top;\n",
       "    }\n",
       "\n",
       "    .dataframe thead th {\n",
       "        text-align: right;\n",
       "    }\n",
       "</style>\n",
       "<table border=\"1\" class=\"dataframe\">\n",
       "  <thead>\n",
       "    <tr style=\"text-align: right;\">\n",
       "      <th></th>\n",
       "      <th>Category</th>\n",
       "      <th>Value</th>\n",
       "    </tr>\n",
       "  </thead>\n",
       "  <tbody>\n",
       "    <tr>\n",
       "      <th>count</th>\n",
       "      <td>6</td>\n",
       "      <td>6.000000</td>\n",
       "    </tr>\n",
       "    <tr>\n",
       "      <th>unique</th>\n",
       "      <td>3</td>\n",
       "      <td>NaN</td>\n",
       "    </tr>\n",
       "    <tr>\n",
       "      <th>top</th>\n",
       "      <td>A</td>\n",
       "      <td>NaN</td>\n",
       "    </tr>\n",
       "    <tr>\n",
       "      <th>freq</th>\n",
       "      <td>3</td>\n",
       "      <td>NaN</td>\n",
       "    </tr>\n",
       "    <tr>\n",
       "      <th>mean</th>\n",
       "      <td>NaN</td>\n",
       "      <td>18.666667</td>\n",
       "    </tr>\n",
       "    <tr>\n",
       "      <th>std</th>\n",
       "      <td>NaN</td>\n",
       "      <td>7.788881</td>\n",
       "    </tr>\n",
       "    <tr>\n",
       "      <th>min</th>\n",
       "      <td>NaN</td>\n",
       "      <td>10.000000</td>\n",
       "    </tr>\n",
       "    <tr>\n",
       "      <th>25%</th>\n",
       "      <td>NaN</td>\n",
       "      <td>12.750000</td>\n",
       "    </tr>\n",
       "    <tr>\n",
       "      <th>50%</th>\n",
       "      <td>NaN</td>\n",
       "      <td>17.500000</td>\n",
       "    </tr>\n",
       "    <tr>\n",
       "      <th>75%</th>\n",
       "      <td>NaN</td>\n",
       "      <td>23.750000</td>\n",
       "    </tr>\n",
       "    <tr>\n",
       "      <th>max</th>\n",
       "      <td>NaN</td>\n",
       "      <td>30.000000</td>\n",
       "    </tr>\n",
       "  </tbody>\n",
       "</table>\n",
       "</div>"
      ],
      "text/plain": [
       "       Category      Value\n",
       "count         6   6.000000\n",
       "unique        3        NaN\n",
       "top           A        NaN\n",
       "freq          3        NaN\n",
       "mean        NaN  18.666667\n",
       "std         NaN   7.788881\n",
       "min         NaN  10.000000\n",
       "25%         NaN  12.750000\n",
       "50%         NaN  17.500000\n",
       "75%         NaN  23.750000\n",
       "max         NaN  30.000000"
      ]
     },
     "execution_count": 3,
     "metadata": {},
     "output_type": "execute_result"
    }
   ],
   "source": [
    "df.describe(include=\"all\")"
   ]
  },
  {
   "cell_type": "markdown",
   "metadata": {},
   "source": [
    "## [YData Profiling](https://docs.profiling.ydata.ai/latest/)\n"
   ]
  },
  {
   "cell_type": "code",
   "execution_count": 4,
   "metadata": {},
   "outputs": [
    {
     "data": {
      "application/vnd.jupyter.widget-view+json": {
       "model_id": "bd4c85db37c249c29d2cc89e6700f999",
       "version_major": 2,
       "version_minor": 0
      },
      "text/plain": [
       "Summarize dataset:   0%|          | 0/5 [00:00<?, ?it/s]"
      ]
     },
     "metadata": {},
     "output_type": "display_data"
    },
    {
     "data": {
      "application/vnd.jupyter.widget-view+json": {
       "model_id": "0807711a600242a29d79c59906283d6f",
       "version_major": 2,
       "version_minor": 0
      },
      "text/plain": [
       "Generate report structure:   0%|          | 0/1 [00:00<?, ?it/s]"
      ]
     },
     "metadata": {},
     "output_type": "display_data"
    },
    {
     "data": {
      "application/vnd.jupyter.widget-view+json": {
       "model_id": "2560600632b9499f9c0004230e037bc3",
       "version_major": 2,
       "version_minor": 0
      },
      "text/plain": [
       "Render widgets:   0%|          | 0/1 [00:00<?, ?it/s]"
      ]
     },
     "metadata": {},
     "output_type": "display_data"
    },
    {
     "data": {
      "application/vnd.jupyter.widget-view+json": {
       "model_id": "a8b49172205b4d668dd354060ea2e267",
       "version_major": 2,
       "version_minor": 0
      },
      "text/plain": [
       "VBox(children=(Tab(children=(Tab(children=(GridBox(children=(VBox(children=(GridspecLayout(children=(HTML(valu…"
      ]
     },
     "metadata": {},
     "output_type": "display_data"
    }
   ],
   "source": [
    "from ydata_profiling import ProfileReport\n",
    "\n",
    "profile = ProfileReport(df, title=\"Pandas Profiling Report\")\n",
    "profile.to_widgets()"
   ]
  },
  {
   "cell_type": "markdown",
   "metadata": {},
   "source": [
    "### Real data\n",
    "\n",
    "Using [Congestion Pricing data](https://data.ny.gov/Transportation/MTA-Congestion-Relief-Zone-Vehicle-Entries-Beginni/t6yz-b64h/about_data).\n"
   ]
  },
  {
   "cell_type": "code",
   "execution_count": 9,
   "metadata": {},
   "outputs": [
    {
     "data": {
      "text/html": [
       "<div>\n",
       "<style scoped>\n",
       "    .dataframe tbody tr th:only-of-type {\n",
       "        vertical-align: middle;\n",
       "    }\n",
       "\n",
       "    .dataframe tbody tr th {\n",
       "        vertical-align: top;\n",
       "    }\n",
       "\n",
       "    .dataframe thead th {\n",
       "        text-align: right;\n",
       "    }\n",
       "</style>\n",
       "<table border=\"1\" class=\"dataframe\">\n",
       "  <thead>\n",
       "    <tr style=\"text-align: right;\">\n",
       "      <th></th>\n",
       "      <th>toll_date</th>\n",
       "      <th>toll_hour</th>\n",
       "      <th>toll_10_minute_block</th>\n",
       "      <th>minute_of_hour</th>\n",
       "      <th>hour_of_day</th>\n",
       "      <th>day_of_week_int</th>\n",
       "      <th>day_of_week</th>\n",
       "      <th>toll_week</th>\n",
       "      <th>time_period</th>\n",
       "      <th>vehicle_class</th>\n",
       "      <th>detection_group</th>\n",
       "      <th>detection_region</th>\n",
       "      <th>crz_entries</th>\n",
       "      <th>excluded_roadway_entries</th>\n",
       "    </tr>\n",
       "  </thead>\n",
       "  <tbody>\n",
       "    <tr>\n",
       "      <th>0</th>\n",
       "      <td>2025-02-08</td>\n",
       "      <td>2025-02-08 23:00:00</td>\n",
       "      <td>2025-02-08 23:50:00</td>\n",
       "      <td>50</td>\n",
       "      <td>23</td>\n",
       "      <td>7</td>\n",
       "      <td>Saturday</td>\n",
       "      <td>2025-02-02</td>\n",
       "      <td>Overnight</td>\n",
       "      <td>1 - Cars, Pickups and Vans</td>\n",
       "      <td>Brooklyn Bridge</td>\n",
       "      <td>Brooklyn</td>\n",
       "      <td>59</td>\n",
       "      <td>52</td>\n",
       "    </tr>\n",
       "    <tr>\n",
       "      <th>1</th>\n",
       "      <td>2025-02-08</td>\n",
       "      <td>2025-02-08 23:00:00</td>\n",
       "      <td>2025-02-08 23:50:00</td>\n",
       "      <td>50</td>\n",
       "      <td>23</td>\n",
       "      <td>7</td>\n",
       "      <td>Saturday</td>\n",
       "      <td>2025-02-02</td>\n",
       "      <td>Overnight</td>\n",
       "      <td>TLC Taxi/FHV</td>\n",
       "      <td>West Side Highway at 60th St</td>\n",
       "      <td>West Side Highway</td>\n",
       "      <td>49</td>\n",
       "      <td>2</td>\n",
       "    </tr>\n",
       "    <tr>\n",
       "      <th>2</th>\n",
       "      <td>2025-02-08</td>\n",
       "      <td>2025-02-08 23:00:00</td>\n",
       "      <td>2025-02-08 23:50:00</td>\n",
       "      <td>50</td>\n",
       "      <td>23</td>\n",
       "      <td>7</td>\n",
       "      <td>Saturday</td>\n",
       "      <td>2025-02-02</td>\n",
       "      <td>Overnight</td>\n",
       "      <td>TLC Taxi/FHV</td>\n",
       "      <td>West 60th St</td>\n",
       "      <td>West 60th St</td>\n",
       "      <td>190</td>\n",
       "      <td>0</td>\n",
       "    </tr>\n",
       "    <tr>\n",
       "      <th>3</th>\n",
       "      <td>2025-02-08</td>\n",
       "      <td>2025-02-08 23:00:00</td>\n",
       "      <td>2025-02-08 23:50:00</td>\n",
       "      <td>50</td>\n",
       "      <td>23</td>\n",
       "      <td>7</td>\n",
       "      <td>Saturday</td>\n",
       "      <td>2025-02-02</td>\n",
       "      <td>Overnight</td>\n",
       "      <td>TLC Taxi/FHV</td>\n",
       "      <td>Queensboro Bridge</td>\n",
       "      <td>Queens</td>\n",
       "      <td>42</td>\n",
       "      <td>0</td>\n",
       "    </tr>\n",
       "    <tr>\n",
       "      <th>4</th>\n",
       "      <td>2025-02-08</td>\n",
       "      <td>2025-02-08 23:00:00</td>\n",
       "      <td>2025-02-08 23:50:00</td>\n",
       "      <td>50</td>\n",
       "      <td>23</td>\n",
       "      <td>7</td>\n",
       "      <td>Saturday</td>\n",
       "      <td>2025-02-02</td>\n",
       "      <td>Overnight</td>\n",
       "      <td>TLC Taxi/FHV</td>\n",
       "      <td>Queens Midtown Tunnel</td>\n",
       "      <td>Queens</td>\n",
       "      <td>51</td>\n",
       "      <td>0</td>\n",
       "    </tr>\n",
       "    <tr>\n",
       "      <th>...</th>\n",
       "      <td>...</td>\n",
       "      <td>...</td>\n",
       "      <td>...</td>\n",
       "      <td>...</td>\n",
       "      <td>...</td>\n",
       "      <td>...</td>\n",
       "      <td>...</td>\n",
       "      <td>...</td>\n",
       "      <td>...</td>\n",
       "      <td>...</td>\n",
       "      <td>...</td>\n",
       "      <td>...</td>\n",
       "      <td>...</td>\n",
       "      <td>...</td>\n",
       "    </tr>\n",
       "    <tr>\n",
       "      <th>362875</th>\n",
       "      <td>2025-01-05</td>\n",
       "      <td>2025-01-05 00:00:00</td>\n",
       "      <td>2025-01-05 00:00:00</td>\n",
       "      <td>0</td>\n",
       "      <td>0</td>\n",
       "      <td>1</td>\n",
       "      <td>Sunday</td>\n",
       "      <td>2025-01-05</td>\n",
       "      <td>Overnight</td>\n",
       "      <td>TLC Taxi/FHV</td>\n",
       "      <td>Brooklyn Bridge</td>\n",
       "      <td>Brooklyn</td>\n",
       "      <td>94</td>\n",
       "      <td>29</td>\n",
       "    </tr>\n",
       "    <tr>\n",
       "      <th>362876</th>\n",
       "      <td>2025-01-05</td>\n",
       "      <td>2025-01-05 00:00:00</td>\n",
       "      <td>2025-01-05 00:00:00</td>\n",
       "      <td>0</td>\n",
       "      <td>0</td>\n",
       "      <td>1</td>\n",
       "      <td>Sunday</td>\n",
       "      <td>2025-01-05</td>\n",
       "      <td>Overnight</td>\n",
       "      <td>TLC Taxi/FHV</td>\n",
       "      <td>Hugh L. Carey Tunnel</td>\n",
       "      <td>Brooklyn</td>\n",
       "      <td>3</td>\n",
       "      <td>1</td>\n",
       "    </tr>\n",
       "    <tr>\n",
       "      <th>362877</th>\n",
       "      <td>2025-01-05</td>\n",
       "      <td>2025-01-05 00:00:00</td>\n",
       "      <td>2025-01-05 00:00:00</td>\n",
       "      <td>0</td>\n",
       "      <td>0</td>\n",
       "      <td>1</td>\n",
       "      <td>Sunday</td>\n",
       "      <td>2025-01-05</td>\n",
       "      <td>Overnight</td>\n",
       "      <td>TLC Taxi/FHV</td>\n",
       "      <td>Manhattan Bridge</td>\n",
       "      <td>Brooklyn</td>\n",
       "      <td>85</td>\n",
       "      <td>0</td>\n",
       "    </tr>\n",
       "    <tr>\n",
       "      <th>362878</th>\n",
       "      <td>2025-01-05</td>\n",
       "      <td>2025-01-05 00:00:00</td>\n",
       "      <td>2025-01-05 00:00:00</td>\n",
       "      <td>0</td>\n",
       "      <td>0</td>\n",
       "      <td>1</td>\n",
       "      <td>Sunday</td>\n",
       "      <td>2025-01-05</td>\n",
       "      <td>Overnight</td>\n",
       "      <td>TLC Taxi/FHV</td>\n",
       "      <td>Williamsburg Bridge</td>\n",
       "      <td>Brooklyn</td>\n",
       "      <td>150</td>\n",
       "      <td>0</td>\n",
       "    </tr>\n",
       "    <tr>\n",
       "      <th>362879</th>\n",
       "      <td>2025-01-05</td>\n",
       "      <td>2025-01-05 00:00:00</td>\n",
       "      <td>2025-01-05 00:00:00</td>\n",
       "      <td>0</td>\n",
       "      <td>0</td>\n",
       "      <td>1</td>\n",
       "      <td>Sunday</td>\n",
       "      <td>2025-01-05</td>\n",
       "      <td>Overnight</td>\n",
       "      <td>TLC Taxi/FHV</td>\n",
       "      <td>East 60th St</td>\n",
       "      <td>East 60th St</td>\n",
       "      <td>320</td>\n",
       "      <td>0</td>\n",
       "    </tr>\n",
       "  </tbody>\n",
       "</table>\n",
       "<p>362880 rows × 14 columns</p>\n",
       "</div>"
      ],
      "text/plain": [
       "        toll_date           toll_hour toll_10_minute_block  minute_of_hour  \\\n",
       "0      2025-02-08 2025-02-08 23:00:00  2025-02-08 23:50:00              50   \n",
       "1      2025-02-08 2025-02-08 23:00:00  2025-02-08 23:50:00              50   \n",
       "2      2025-02-08 2025-02-08 23:00:00  2025-02-08 23:50:00              50   \n",
       "3      2025-02-08 2025-02-08 23:00:00  2025-02-08 23:50:00              50   \n",
       "4      2025-02-08 2025-02-08 23:00:00  2025-02-08 23:50:00              50   \n",
       "...           ...                 ...                  ...             ...   \n",
       "362875 2025-01-05 2025-01-05 00:00:00  2025-01-05 00:00:00               0   \n",
       "362876 2025-01-05 2025-01-05 00:00:00  2025-01-05 00:00:00               0   \n",
       "362877 2025-01-05 2025-01-05 00:00:00  2025-01-05 00:00:00               0   \n",
       "362878 2025-01-05 2025-01-05 00:00:00  2025-01-05 00:00:00               0   \n",
       "362879 2025-01-05 2025-01-05 00:00:00  2025-01-05 00:00:00               0   \n",
       "\n",
       "        hour_of_day  day_of_week_int day_of_week  toll_week time_period  \\\n",
       "0                23                7    Saturday 2025-02-02   Overnight   \n",
       "1                23                7    Saturday 2025-02-02   Overnight   \n",
       "2                23                7    Saturday 2025-02-02   Overnight   \n",
       "3                23                7    Saturday 2025-02-02   Overnight   \n",
       "4                23                7    Saturday 2025-02-02   Overnight   \n",
       "...             ...              ...         ...        ...         ...   \n",
       "362875            0                1      Sunday 2025-01-05   Overnight   \n",
       "362876            0                1      Sunday 2025-01-05   Overnight   \n",
       "362877            0                1      Sunday 2025-01-05   Overnight   \n",
       "362878            0                1      Sunday 2025-01-05   Overnight   \n",
       "362879            0                1      Sunday 2025-01-05   Overnight   \n",
       "\n",
       "                     vehicle_class               detection_group  \\\n",
       "0       1 - Cars, Pickups and Vans               Brooklyn Bridge   \n",
       "1                     TLC Taxi/FHV  West Side Highway at 60th St   \n",
       "2                     TLC Taxi/FHV                  West 60th St   \n",
       "3                     TLC Taxi/FHV             Queensboro Bridge   \n",
       "4                     TLC Taxi/FHV         Queens Midtown Tunnel   \n",
       "...                            ...                           ...   \n",
       "362875                TLC Taxi/FHV               Brooklyn Bridge   \n",
       "362876                TLC Taxi/FHV          Hugh L. Carey Tunnel   \n",
       "362877                TLC Taxi/FHV              Manhattan Bridge   \n",
       "362878                TLC Taxi/FHV           Williamsburg Bridge   \n",
       "362879                TLC Taxi/FHV                  East 60th St   \n",
       "\n",
       "         detection_region  crz_entries  excluded_roadway_entries  \n",
       "0                Brooklyn           59                        52  \n",
       "1       West Side Highway           49                         2  \n",
       "2            West 60th St          190                         0  \n",
       "3                  Queens           42                         0  \n",
       "4                  Queens           51                         0  \n",
       "...                   ...          ...                       ...  \n",
       "362875           Brooklyn           94                        29  \n",
       "362876           Brooklyn            3                         1  \n",
       "362877           Brooklyn           85                         0  \n",
       "362878           Brooklyn          150                         0  \n",
       "362879       East 60th St          320                         0  \n",
       "\n",
       "[362880 rows x 14 columns]"
      ]
     },
     "execution_count": 9,
     "metadata": {},
     "output_type": "execute_result"
    }
   ],
   "source": [
    "entries = pd.read_csv(\n",
    "    \"https://data.ny.gov/resource/t6yz-b64h.csv?$limit=500000\",\n",
    "    parse_dates=[\"toll_date\", \"toll_hour\", \"toll_10_minute_block\", \"toll_week\"],\n",
    ")\n",
    "entries"
   ]
  },
  {
   "cell_type": "code",
   "execution_count": 10,
   "metadata": {},
   "outputs": [
    {
     "data": {
      "application/vnd.jupyter.widget-view+json": {
       "model_id": "a377ee5ddbcf472d8ca49e3b7a411b5b",
       "version_major": 2,
       "version_minor": 0
      },
      "text/plain": [
       "Summarize dataset:   0%|          | 0/5 [00:00<?, ?it/s]"
      ]
     },
     "metadata": {},
     "output_type": "display_data"
    },
    {
     "data": {
      "application/vnd.jupyter.widget-view+json": {
       "model_id": "d1b0cb4196f64adabcdefc26f7abb221",
       "version_major": 2,
       "version_minor": 0
      },
      "text/plain": [
       "Generate report structure:   0%|          | 0/1 [00:00<?, ?it/s]"
      ]
     },
     "metadata": {},
     "output_type": "display_data"
    },
    {
     "data": {
      "application/vnd.jupyter.widget-view+json": {
       "model_id": "b85243273081408fba44e2dcfa4f7e1d",
       "version_major": 2,
       "version_minor": 0
      },
      "text/plain": [
       "Render widgets:   0%|          | 0/1 [00:00<?, ?it/s]"
      ]
     },
     "metadata": {},
     "output_type": "display_data"
    },
    {
     "data": {
      "application/vnd.jupyter.widget-view+json": {
       "model_id": "a27048c18f4a4960898a8bc4ca071e4b",
       "version_major": 2,
       "version_minor": 0
      },
      "text/plain": [
       "VBox(children=(Tab(children=(Tab(children=(GridBox(children=(VBox(children=(GridspecLayout(children=(HTML(valu…"
      ]
     },
     "metadata": {},
     "output_type": "display_data"
    }
   ],
   "source": [
    "profile = ProfileReport(entries, title=\"Congestion data\")\n",
    "profile.to_widgets()"
   ]
  }
 ],
 "metadata": {
  "kernelspec": {
   "display_name": ".venv",
   "language": "python",
   "name": "python3"
  },
  "language_info": {
   "codemirror_mode": {
    "name": "ipython",
    "version": 3
   },
   "file_extension": ".py",
   "mimetype": "text/x-python",
   "name": "python",
   "nbconvert_exporter": "python",
   "pygments_lexer": "ipython3",
   "version": "3.12.5"
  }
 },
 "nbformat": 4,
 "nbformat_minor": 2
}
