{
 "cells": [
  {
   "cell_type": "markdown",
   "metadata": {
    "slideshow": {
     "slide_type": "slide"
    }
   },
   "source": [
    "# Advanced Computing for Policy\n",
    "\n",
    "Aidan Feldman\n"
   ]
  },
  {
   "cell_type": "markdown",
   "metadata": {
    "slideshow": {
     "slide_type": "slide"
    }
   },
   "source": [
    "## Agenda\n",
    "\n",
    "1. Intros\n",
    "1. Go through [syllabus](../README.md)\n",
    "1. Collaborating on code\n"
   ]
  },
  {
   "cell_type": "markdown",
   "metadata": {
    "slideshow": {
     "slide_type": "slide"
    }
   },
   "source": [
    "## Intros\n",
    "\n",
    "1. Name (what you'd like to be called)\n",
    "1. Pronouns\n",
    "1. What you want to use this class for? (The more specific the better.)\n",
    "1. Favorite snack\n"
   ]
  },
  {
   "cell_type": "markdown",
   "metadata": {
    "slideshow": {
     "slide_type": "slide"
    }
   },
   "source": [
    "From [Computing in Context](https://computing-in-context.afeld.me/), we're going:\n",
    "\n",
    "**Deep**\n",
    "\n",
    "Better understanding what we've learned.\n",
    "\n",
    "- Data structures\n",
    "- Algorithms\n",
    "- Web development\n",
    "- etc.\n"
   ]
  },
  {
   "cell_type": "markdown",
   "metadata": {
    "slideshow": {
     "slide_type": "subslide"
    }
   },
   "source": [
    "**Broad**\n",
    "\n",
    "Understanding things around code/data.\n",
    "\n",
    "- Collaborating on code (GitHub)\n",
    "- Project/product management\n",
    "- Automated testing\n",
    "- Databases\n",
    "- Data engineering\n",
    "- Infrastructure\n",
    "- Privacy\n"
   ]
  }
 ],
 "metadata": {
  "kernelspec": {
   "display_name": ".venv",
   "language": "python",
   "name": "python3"
  },
  "language_info": {
   "name": "python",
   "version": "3.12.5"
  }
 },
 "nbformat": 4,
 "nbformat_minor": 2
}
