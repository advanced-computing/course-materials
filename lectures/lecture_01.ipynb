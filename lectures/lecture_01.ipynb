{
 "cells": [
  {
   "cell_type": "markdown",
   "metadata": {
    "slideshow": {
     "slide_type": "slide"
    }
   },
   "source": [
    "# Advanced Computing for Policy\n",
    "\n",
    "Aidan Feldman\n"
   ]
  },
  {
   "cell_type": "markdown",
   "metadata": {
    "slideshow": {
     "slide_type": "slide"
    }
   },
   "source": [
    "## Agenda\n",
    "\n",
    "1. Intros\n",
    "1. Go through [syllabus](../README.md)\n",
    "1. Collaborating on code\n"
   ]
  },
  {
   "cell_type": "markdown",
   "metadata": {
    "slideshow": {
     "slide_type": "slide"
    }
   },
   "source": [
    "## Intros\n",
    "\n",
    "1. Name (what you'd like to be called)\n",
    "1. Pronouns\n",
    "1. What you want to use this class for? (The more specific the better.)\n",
    "1. Favorite snack\n"
   ]
  },
  {
   "cell_type": "markdown",
   "metadata": {
    "slideshow": {
     "slide_type": "slide"
    }
   },
   "source": [
    "## [Syllabus](../README.md)\n"
   ]
  },
  {
   "cell_type": "markdown",
   "metadata": {
    "slideshow": {
     "slide_type": "slide"
    }
   },
   "source": [
    "## Scope\n",
    "\n",
    "From [Computing in Context](https://computing-in-context.afeld.me/), we're going:\n",
    "\n",
    "### Deep\n",
    "\n",
    "Better understanding what we've learned.\n",
    "\n",
    "- Data structures\n",
    "- Algorithms\n",
    "- Web development\n",
    "- etc.\n"
   ]
  },
  {
   "cell_type": "markdown",
   "metadata": {
    "slideshow": {
     "slide_type": "subslide"
    }
   },
   "source": [
    "### Broad\n",
    "\n",
    "Understanding things around code/data.\n",
    "\n",
    "- Collaborating on code (GitHub)\n",
    "- Project/product management\n",
    "- Automated testing\n",
    "- Databases\n",
    "- Data engineering\n",
    "- Infrastructure\n",
    "- Privacy\n"
   ]
  },
  {
   "cell_type": "markdown",
   "metadata": {
    "slideshow": {
     "slide_type": "slide"
    }
   },
   "source": [
    "## Overall goal\n",
    "\n",
    "We'll be building a data system that:\n",
    "\n",
    "- Pull in latest data on a regular basis\n",
    "- Clean it in an automated way\n",
    "- Collect it in a database\n",
    "- Show up-to-date information from the database in a web app\n",
    "- Send alerts if there are issues\n"
   ]
  },
  {
   "cell_type": "markdown",
   "metadata": {
    "slideshow": {
     "slide_type": "subslide"
    }
   },
   "source": [
    "Thinking teams of two.\n"
   ]
  },
  {
   "cell_type": "markdown",
   "metadata": {
    "vscode": {
     "languageId": "markdown"
    }
   },
   "source": [
    "## GitHub\n"
   ]
  }
 ],
 "metadata": {
  "kernelspec": {
   "display_name": ".venv",
   "language": "python",
   "name": "python3"
  },
  "language_info": {
   "codemirror_mode": {
    "name": "ipython",
    "version": 3
   },
   "file_extension": ".py",
   "mimetype": "text/x-python",
   "name": "python",
   "nbconvert_exporter": "python",
   "pygments_lexer": "ipython3",
   "version": "3.12.5"
  }
 },
 "nbformat": 4,
 "nbformat_minor": 2
}
